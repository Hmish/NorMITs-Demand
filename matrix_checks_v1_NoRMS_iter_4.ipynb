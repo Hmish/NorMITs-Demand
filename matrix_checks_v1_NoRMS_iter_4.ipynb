{
 "cells": [
  {
   "cell_type": "markdown",
   "metadata": {},
   "source": [
    "# Matrix Checks"
   ]
  },
  {
   "cell_type": "markdown",
   "metadata": {},
   "source": [
    "Ensure that this has the iteration version information added to the file path and run all the way through.\n",
    "\n",
    "Commentry to be added before each output *replacing the text in italics*\n",
    "\n",
    "Once run and commented, download as HTML so that it is not dynamic and can be shared with colleagues who do not have Python."
   ]
  },
  {
   "cell_type": "code",
   "execution_count": null,
   "metadata": {},
   "outputs": [],
   "source": [
    "import os\n",
    "import sys\n",
    "import pandas as pd\n",
    "import numpy as np\n",
    "import matplotlib as mpl\n",
    "import matplotlib.pyplot as plt\n",
    "\n",
    "_TMS_PATH = ('C:/Users/' +\n",
    "               os.getlogin() +\n",
    "               '/Documents/GitHub/Travel-Market-Synthesiser')\n",
    "sys.path.append(_TMS_PATH)\n",
    "import matrix_processing as mp\n",
    "import distribution_curve_graph as dcg\n",
    "\n",
    "pd.set_option('precision', 3)\n"
   ]
  },
  {
   "cell_type": "code",
   "execution_count": null,
   "metadata": {},
   "outputs": [],
   "source": [
    "%%capture\n",
    "# Produces distribution report tuples. Note: this takes a few minutes to run\n",
    "# Needs updating to be able to be flexibly pointed at different output sets\n",
    "TMS_dist_report = mp.distribution_report(file_drive = 'Y:/',\n",
    "                                         model_name = 'Norms',\n",
    "                                         iteration = 'iter4',\n",
    "                                         model_segments = ['p', 'm', 'ca'],\n",
    "                                         distributions = 'Distribution Outputs/Compiled PA Matrices',\n",
    "                                         matrix_format = 'long',\n",
    "                                         report_tp = 'tp',\n",
    "                                         internal_reports = True,\n",
    "                                         write = True)"
   ]
  },
  {
   "cell_type": "code",
   "execution_count": null,
   "metadata": {},
   "outputs": [],
   "source": [
    "%%capture\n",
    "FE_dist_report = mp.distribution_report(file_drive = 'Y:/',\n",
    "                                        model_name = 'Norms',\n",
    "                                        iteration = 'iter4',\n",
    "                                        model_segments = ['p', 'm', 'ca'],\n",
    "                                        distributions = 'Fusion Outputs/Compiled Fusion PA Matrices',\n",
    "                                        matrix_format = 'long',\n",
    "                                        report_tp = 'tp',\n",
    "                                        internal_reports = True,\n",
    "                                        write = True)"
   ]
  },
  {
   "cell_type": "code",
   "execution_count": null,
   "metadata": {},
   "outputs": [],
   "source": [
    "# Join the two models\n",
    "TMS_dist_report_df = pd.DataFrame(TMS_dist_report[3])\n",
    "FE_dist_report_df = pd.DataFrame(FE_dist_report[3])\n",
    "\n",
    "TMS_dist_report_df.loc[:,'ca']=TMS_dist_report_df.loc[:,'ca'].astype('category')\n",
    "FE_dist_report_df.loc[:,'ca']=FE_dist_report_df.loc[:,'ca'].astype('category')"
   ]
  },
  {
   "cell_type": "markdown",
   "metadata": {},
   "source": [
    "## Check Matrix totals\n",
    "Compare matrix totals and purpose splits with existing outputs and NoRMS. This should be done seperately by mode."
   ]
  },
  {
   "cell_type": "markdown",
   "metadata": {},
   "source": [
    "*The target for comparison with MOIRA is 541k, however that is trips, whereas the FE demand here is tours. The large difference between TMS and FE outputs suggests that FE is having a greater impact than desirable.*"
   ]
  },
  {
   "cell_type": "code",
   "execution_count": null,
   "metadata": {},
   "outputs": [],
   "source": [
    "print(\"TMS total demand: %.0f\" % TMS_dist_report_df.dt.sum())\n",
    "print(\"FE total demand:  %.0f\" % FE_dist_report_df.dt.sum())"
   ]
  },
  {
   "cell_type": "markdown",
   "metadata": {},
   "source": [
    "*Only rail-mode trips in these output matrices, therefore mode split unavailable*"
   ]
  },
  {
   "cell_type": "code",
   "execution_count": null,
   "metadata": {},
   "outputs": [],
   "source": [
    "# Code to import 24 hour total matrix from TMS, FE and show with NoRMS in int-ext format\n",
    "TMS_mode_df=TMS_dist_report_df.set_index('m')\n",
    "TMS_mode_sum = TMS_mode_df.dt.sum(level=('m'))\n",
    "\n",
    "FE_mode_df=FE_dist_report_df.set_index('m')\n",
    "FE_mode_sum = FE_mode_df.dt.sum(level=('m'))\n",
    "\n",
    "mode_sum = pd.merge(pd.DataFrame(TMS_mode_sum), pd.DataFrame(FE_mode_sum), on=\"m\", suffixes=('_TMS','_FE'))\n",
    "mode_sum['prop_TMS']=mode_sum.dt_TMS/mode_sum.dt_TMS.sum()\n",
    "mode_sum['prop_FE']=mode_sum.dt_FE/mode_sum.dt_FE.sum()\n",
    "mode_sum"
   ]
  },
  {
   "cell_type": "markdown",
   "metadata": {},
   "source": [
    "Compare rail trips by purpose with NTS purpose splits for rail trips. Note that the NTS proportions shown for comparison is all-week\n",
    "\n",
    "*Other purpose share in TMS is slightly above NTS. After FE the other share is very close to NTS. However business is 2.5 times higher for TMS than NTS, which increases to 3 times higher for FE. The commute purpose share is therefore low.*"
   ]
  },
  {
   "cell_type": "code",
   "execution_count": null,
   "metadata": {},
   "outputs": [],
   "source": [
    "TMS_purpose_df = TMS_dist_report_df[TMS_dist_report_df[\"m\"]==\"6\"]\n",
    "TMS_purpose_df=TMS_purpose_df.set_index('p')\n",
    "TMS_purpose_sum = TMS_purpose_df.dt.sum(level=('p'))\n",
    "\n",
    "FE_purpose_df = FE_dist_report_df[FE_dist_report_df[\"m\"]==\"6\"]\n",
    "FE_purpose_df=FE_purpose_df.set_index('p')\n",
    "FE_purpose_sum = FE_purpose_df.dt.sum(level=('p'))\n",
    "\n",
    "purpose_sum=pd.merge(pd.DataFrame(TMS_purpose_sum), pd.DataFrame(FE_purpose_sum), on=\"p\", suffixes=('_TMS','_FE'))\n",
    "\n",
    "purpose_sum['prop_TMS']=purpose_sum.dt_TMS/purpose_sum.dt_TMS.sum()\n",
    "purpose_sum['prop_FE']=purpose_sum.dt_FE/purpose_sum.dt_FE.sum()\n",
    "purpose_sum"
   ]
  },
  {
   "cell_type": "code",
   "execution_count": null,
   "metadata": {
    "scrolled": true
   },
   "outputs": [],
   "source": [
    "NTS = {'purpose': ['Business','Commute','Other'],\n",
    "      'trips': [617, 4395, 7010]}\n",
    "\n",
    "NTS_df=pd.DataFrame(NTS)\n",
    "NTS_df['prop']=NTS_df.trips/NTS_df.trips.sum()\n",
    "\n",
    "NTS_df"
   ]
  },
  {
   "cell_type": "markdown",
   "metadata": {},
   "source": [
    "Compare rail trips by car avialability with NTS car availability splits for rail trips\n",
    "\n",
    "*NCA is slightly lower in TMS than in NTS, and this is reduced again in the FE outputs.*"
   ]
  },
  {
   "cell_type": "code",
   "execution_count": null,
   "metadata": {},
   "outputs": [],
   "source": [
    "TMS_ca_df = TMS_dist_report_df[TMS_dist_report_df[\"m\"]==\"6\"]\n",
    "TMS_ca_df=TMS_ca_df.set_index('ca')\n",
    "TMS_ca_sum = TMS_ca_df.dt.sum(level=('ca'))\n",
    "\n",
    "FE_ca_df = FE_dist_report_df[FE_dist_report_df[\"m\"]==\"6\"]\n",
    "FE_ca_df=FE_ca_df.set_index('ca')\n",
    "FE_ca_sum = FE_ca_df.dt.sum(level=('ca'))\n",
    "\n",
    "ca_sum=pd.merge(pd.DataFrame(TMS_ca_sum), pd.DataFrame(FE_ca_sum), on=\"ca\", suffixes=('_TMS','_FE'))\n",
    "\n",
    "ca_sum['prop_TMS']=ca_sum.dt_TMS/ca_sum.dt_TMS.sum()\n",
    "ca_sum['prop_FE']=ca_sum.dt_FE/ca_sum.dt_FE.sum()\n",
    "ca_sum"
   ]
  },
  {
   "cell_type": "code",
   "execution_count": null,
   "metadata": {},
   "outputs": [],
   "source": [
    "NTS = {'car availability': ['CA','NCA'],\n",
    "      'trips': [10581, 3420]}\n",
    "\n",
    "NTS_df=pd.DataFrame(NTS)\n",
    "NTS_df['prop']=NTS_df.trips/NTS_df.trips.sum()\n",
    "\n",
    "NTS_df"
   ]
  },
  {
   "cell_type": "markdown",
   "metadata": {},
   "source": [
    "## Cellwise Comparison\n",
    "Comparison between TMS and FE outputs"
   ]
  },
  {
   "cell_type": "markdown",
   "metadata": {},
   "source": [
    "*FE changes volumes of demand above 1 in both directions*"
   ]
  },
  {
   "cell_type": "code",
   "execution_count": null,
   "metadata": {},
   "outputs": [],
   "source": [
    "# Code to compare outputs and produce scatterplot with line of best fit\n",
    "\n",
    "purpose_df = pd.merge(TMS_purpose_df, FE_purpose_df,\n",
    "                      on=('p', 'a_zone', 'ca', 'm', 'origin', 'p_zone', \"time\"),\n",
    "                      suffixes=('_TMS','_FE'))\n",
    "\n",
    "plt.hist2d(purpose_df.dt_TMS, \n",
    "           purpose_df.dt_FE, \n",
    "           bins=50, \n",
    "           range=[[0.5,50],[0.5,50]],\n",
    "           cmap=plt.cm.BuPu,\n",
    "           norm=mpl.colors.LogNorm())\n",
    "plt.colorbar()\n",
    "plt.title(\"TMS vs FE Rail Demand\")\n",
    "plt.xlabel(\"TMS\")\n",
    "plt.ylabel(\"FE\")\n",
    "#plt.xscale(\"log\")\n",
    "#plt.yscale(\"log\")\n",
    "plt.show"
   ]
  },
  {
   "cell_type": "markdown",
   "metadata": {},
   "source": [
    "## Trip length distribution\n",
    "The trip length distribution is aiming for a set of NTS targets with a different distribution for each segment. These do not necessarily agregate to a smooth curve."
   ]
  },
  {
   "cell_type": "markdown",
   "metadata": {},
   "source": [
    "*Insert text on trip lenth distribution*"
   ]
  },
  {
   "cell_type": "code",
   "execution_count": null,
   "metadata": {},
   "outputs": [],
   "source": [
    "# Code to import trip length distributions\n",
    "dcg.build_dist_curves(model_name='Norms',\n",
    "                      iteration='iter4',\n",
    "                      mode_subset=[6],\n",
    "                      write=False)"
   ]
  },
  {
   "cell_type": "markdown",
   "metadata": {},
   "source": [
    "## Matrix values check\n",
    "Check for extreme values and ensure that they do not represent a problem with the outputs"
   ]
  },
  {
   "cell_type": "markdown",
   "metadata": {},
   "source": [
    "*There are no negative trips. However zones 1095 and 1096 having 0 demand to zone 1 should be investigated as these are fairly generic zones in Warrington that have previously had problems due to poor definition of the limit of internal zones*"
   ]
  },
  {
   "cell_type": "code",
   "execution_count": null,
   "metadata": {},
   "outputs": [],
   "source": [
    "purpose_df.nsmallest(n=5, columns='dt_TMS')"
   ]
  },
  {
   "cell_type": "code",
   "execution_count": null,
   "metadata": {},
   "outputs": [],
   "source": [
    "purpose_df.nsmallest(n=5, columns='dt_FE')"
   ]
  },
  {
   "cell_type": "code",
   "execution_count": null,
   "metadata": {},
   "outputs": [],
   "source": [
    "purpose_df.nlargest(n=5, columns='dt_TMS')"
   ]
  },
  {
   "cell_type": "code",
   "execution_count": null,
   "metadata": {},
   "outputs": [],
   "source": [
    "purpose_df.nlargest(n=5, columns='dt_FE')"
   ]
  },
  {
   "cell_type": "markdown",
   "metadata": {},
   "source": [
    "## Summary\n",
    "\n",
    "*Insert text summarising matrix comparison*"
   ]
  },
  {
   "cell_type": "code",
   "execution_count": null,
   "metadata": {},
   "outputs": [],
   "source": []
  }
 ],
 "metadata": {
  "kernelspec": {
   "display_name": "Python 3",
   "language": "python",
   "name": "python3"
  },
  "language_info": {
   "codemirror_mode": {
    "name": "ipython",
    "version": 3
   },
   "file_extension": ".py",
   "mimetype": "text/x-python",
   "name": "python",
   "nbconvert_exporter": "python",
   "pygments_lexer": "ipython3",
   "version": "3.7.1"
  }
 },
 "nbformat": 4,
 "nbformat_minor": 2
}
